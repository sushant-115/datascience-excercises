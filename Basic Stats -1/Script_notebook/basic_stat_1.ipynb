{
 "cells": [
  {
   "cell_type": "code",
   "execution_count": 2,
   "metadata": {},
   "outputs": [
    {
     "ename": "NameError",
     "evalue": "name 'library' is not defined",
     "output_type": "error",
     "traceback": [
      "\u001b[0;31m---------------------------------------------------------------------------\u001b[0m",
      "\u001b[0;31mNameError\u001b[0m                                 Traceback (most recent call last)",
      "Cell \u001b[0;32mIn[2], line 1\u001b[0m\n\u001b[0;32m----> 1\u001b[0m \u001b[43mlibrary\u001b[49m(moments)\n\u001b[1;32m      2\u001b[0m library(modeest)\n\u001b[1;32m      3\u001b[0m library(car)\n",
      "\u001b[0;31mNameError\u001b[0m: name 'library' is not defined"
     ]
    }
   ],
   "source": [
    "library(moments)\n",
    "library(modeest)\n",
    "library(car)\n",
    "library(nortest)"
   ]
  },
  {
   "attachments": {},
   "cell_type": "markdown",
   "metadata": {},
   "source": [
    "## __1 - Business Problem__  \n",
    "___Perform Basic Visualizations for all the columns(numerical data only) on any data set from data set folder make sure it has more data. So we can make better inferences for the visualizations(boxplot,histogram)___  "
   ]
  },
  {
   "attachments": {},
   "cell_type": "markdown",
   "metadata": {},
   "source": [
    "## __2 - Question 7__ "
   ]
  },
  {
   "cell_type": "code",
   "execution_count": 2,
   "metadata": {},
   "outputs": [],
   "source": [
    "setwd(\"C:\\\\Users\\\\SohailShaikh\\\\OneDrive - tiqets.com\\\\Tiqets\\\\Adhoc\\\\DS\\\\Basic Stats - 1\")"
   ]
  },
  {
   "cell_type": "code",
   "execution_count": 3,
   "metadata": {},
   "outputs": [],
   "source": [
    "Q7 = read.csv(\"Q7.csv\")"
   ]
  },
  {
   "cell_type": "code",
   "execution_count": 4,
   "metadata": {},
   "outputs": [],
   "source": [
    "df = Q7[,2:4]"
   ]
  },
  {
   "cell_type": "code",
   "execution_count": 5,
   "metadata": {},
   "outputs": [
    {
     "data": {
      "text/html": [
       "<table>\n",
       "<thead><tr><th scope=col>Points</th><th scope=col>Score</th><th scope=col>Weigh</th></tr></thead>\n",
       "<tbody>\n",
       "\t<tr><td>3.90 </td><td>2.620</td><td>16.46</td></tr>\n",
       "\t<tr><td>3.90 </td><td>2.875</td><td>17.02</td></tr>\n",
       "\t<tr><td>3.85 </td><td>2.320</td><td>18.61</td></tr>\n",
       "\t<tr><td>3.08 </td><td>3.215</td><td>19.44</td></tr>\n",
       "\t<tr><td>3.15 </td><td>3.440</td><td>17.02</td></tr>\n",
       "\t<tr><td>2.76 </td><td>3.460</td><td>20.22</td></tr>\n",
       "</tbody>\n",
       "</table>\n"
      ],
      "text/latex": [
       "\\begin{tabular}{r|lll}\n",
       " Points & Score & Weigh\\\\\n",
       "\\hline\n",
       "\t 3.90  & 2.620 & 16.46\\\\\n",
       "\t 3.90  & 2.875 & 17.02\\\\\n",
       "\t 3.85  & 2.320 & 18.61\\\\\n",
       "\t 3.08  & 3.215 & 19.44\\\\\n",
       "\t 3.15  & 3.440 & 17.02\\\\\n",
       "\t 2.76  & 3.460 & 20.22\\\\\n",
       "\\end{tabular}\n"
      ],
      "text/markdown": [
       "\n",
       "| Points | Score | Weigh |\n",
       "|---|---|---|\n",
       "| 3.90  | 2.620 | 16.46 |\n",
       "| 3.90  | 2.875 | 17.02 |\n",
       "| 3.85  | 2.320 | 18.61 |\n",
       "| 3.08  | 3.215 | 19.44 |\n",
       "| 3.15  | 3.440 | 17.02 |\n",
       "| 2.76  | 3.460 | 20.22 |\n",
       "\n"
      ],
      "text/plain": [
       "  Points Score Weigh\n",
       "1 3.90   2.620 16.46\n",
       "2 3.90   2.875 17.02\n",
       "3 3.85   2.320 18.61\n",
       "4 3.08   3.215 19.44\n",
       "5 3.15   3.440 17.02\n",
       "6 2.76   3.460 20.22"
      ]
     },
     "metadata": {},
     "output_type": "display_data"
    }
   ],
   "source": [
    "head(df)"
   ]
  },
  {
   "cell_type": "code",
   "execution_count": 6,
   "metadata": {},
   "outputs": [
    {
     "data": {
      "text/plain": [
       "     Points          Score           Weigh      \n",
       " Min.   :2.760   Min.   :1.513   Min.   :14.50  \n",
       " 1st Qu.:3.080   1st Qu.:2.581   1st Qu.:16.89  \n",
       " Median :3.695   Median :3.325   Median :17.71  \n",
       " Mean   :3.597   Mean   :3.217   Mean   :17.85  \n",
       " 3rd Qu.:3.920   3rd Qu.:3.610   3rd Qu.:18.90  \n",
       " Max.   :4.930   Max.   :5.424   Max.   :22.90  "
      ]
     },
     "metadata": {},
     "output_type": "display_data"
    }
   ],
   "source": [
    "summary(df)"
   ]
  },
  {
   "cell_type": "code",
   "execution_count": 7,
   "metadata": {},
   "outputs": [
    {
     "data": {
      "text/html": [
       "0.285881350806452"
      ],
      "text/latex": [
       "0.285881350806452"
      ],
      "text/markdown": [
       "0.285881350806452"
      ],
      "text/plain": [
       "[1] 0.2858814"
      ]
     },
     "metadata": {},
     "output_type": "display_data"
    },
    {
     "data": {
      "text/html": [
       "0.957378967741936"
      ],
      "text/latex": [
       "0.957378967741936"
      ],
      "text/markdown": [
       "0.957378967741936"
      ],
      "text/plain": [
       "[1] 0.957379"
      ]
     },
     "metadata": {},
     "output_type": "display_data"
    },
    {
     "data": {
      "text/html": [
       "3.19316612903226"
      ],
      "text/latex": [
       "3.19316612903226"
      ],
      "text/markdown": [
       "3.19316612903226"
      ],
      "text/plain": [
       "[1] 3.193166"
      ]
     },
     "metadata": {},
     "output_type": "display_data"
    }
   ],
   "source": [
    "var(df[,1])\n",
    "var(df[,2])\n",
    "var(df[,3])"
   ]
  },
  {
   "cell_type": "code",
   "execution_count": 8,
   "metadata": {},
   "outputs": [
    {
     "data": {
      "text/html": [
       "0.534678736070971"
      ],
      "text/latex": [
       "0.534678736070971"
      ],
      "text/markdown": [
       "0.534678736070971"
      ],
      "text/plain": [
       "[1] 0.5346787"
      ]
     },
     "metadata": {},
     "output_type": "display_data"
    },
    {
     "data": {
      "text/html": [
       "0.978457442989697"
      ],
      "text/latex": [
       "0.978457442989697"
      ],
      "text/markdown": [
       "0.978457442989697"
      ],
      "text/plain": [
       "[1] 0.9784574"
      ]
     },
     "metadata": {},
     "output_type": "display_data"
    },
    {
     "data": {
      "text/html": [
       "1.78694323609684"
      ],
      "text/latex": [
       "1.78694323609684"
      ],
      "text/markdown": [
       "1.78694323609684"
      ],
      "text/plain": [
       "[1] 1.786943"
      ]
     },
     "metadata": {},
     "output_type": "display_data"
    }
   ],
   "source": [
    "sd(df[,1])\n",
    "sd(df[,2])\n",
    "sd(df[,3])"
   ]
  },
  {
   "cell_type": "code",
   "execution_count": 9,
   "metadata": {},
   "outputs": [
    {
     "data": {
      "text/html": [
       "2.17"
      ],
      "text/latex": [
       "2.17"
      ],
      "text/markdown": [
       "2.17"
      ],
      "text/plain": [
       "[1] 2.17"
      ]
     },
     "metadata": {},
     "output_type": "display_data"
    },
    {
     "data": {
      "text/html": [
       "3.911"
      ],
      "text/latex": [
       "3.911"
      ],
      "text/markdown": [
       "3.911"
      ],
      "text/plain": [
       "[1] 3.911"
      ]
     },
     "metadata": {},
     "output_type": "display_data"
    },
    {
     "data": {
      "text/html": [
       "8.4"
      ],
      "text/latex": [
       "8.4"
      ],
      "text/markdown": [
       "8.4"
      ],
      "text/plain": [
       "[1] 8.4"
      ]
     },
     "metadata": {},
     "output_type": "display_data"
    }
   ],
   "source": [
    "abs(range(df[,1])[1]-range(df[,1])[2])\n",
    "abs(range(df[,2])[1]-range(df[,2])[2])\n",
    "abs(range(df[,3])[1]-range(df[,3])[2])"
   ]
  },
  {
   "cell_type": "code",
   "execution_count": 10,
   "metadata": {},
   "outputs": [],
   "source": [
    "getmode <- function(x)\n",
    "{\n",
    "uniquv <- unique(x)\n",
    "uniquv [which.max(tabulate(match(x,uniquv)))]\n",
    "}"
   ]
  },
  {
   "cell_type": "code",
   "execution_count": 11,
   "metadata": {},
   "outputs": [
    {
     "data": {
      "text/html": [
       "3.92"
      ],
      "text/latex": [
       "3.92"
      ],
      "text/markdown": [
       "3.92"
      ],
      "text/plain": [
       "[1] 3.92"
      ]
     },
     "metadata": {},
     "output_type": "display_data"
    },
    {
     "data": {
      "text/html": [
       "3.44"
      ],
      "text/latex": [
       "3.44"
      ],
      "text/markdown": [
       "3.44"
      ],
      "text/plain": [
       "[1] 3.44"
      ]
     },
     "metadata": {},
     "output_type": "display_data"
    },
    {
     "data": {
      "text/html": [
       "17.02"
      ],
      "text/latex": [
       "17.02"
      ],
      "text/markdown": [
       "17.02"
      ],
      "text/plain": [
       "[1] 17.02"
      ]
     },
     "metadata": {},
     "output_type": "display_data"
    }
   ],
   "source": [
    "getmode(df[,1])\n",
    "getmode(df[,2])\n",
    "getmode(df[,3])"
   ]
  },
  {
   "cell_type": "code",
   "execution_count": 12,
   "metadata": {},
   "outputs": [
    {
     "data": {
      "image/png": "[encoded data removed]",
      "text/plain": [
       "Plot with title \"Histogram of df$Points\""
      ]
     },
     "metadata": {},
     "output_type": "display_data"
    }
   ],
   "source": [
    "hist(df$Points)"
   ]
  },
  {
   "cell_type": "code",
   "execution_count": 13,
   "metadata": {},
   "outputs": [
    {
     "data": {
      "image/png": "[encoded data removed]",
      "text/plain": [
       "Plot with title \"Histogram of df$Score\""
      ]
     },
     "metadata": {},
     "output_type": "display_data"
    }
   ],
   "source": [
    "hist(df$Score)"
   ]
  },
  {
   "cell_type": "code",
   "execution_count": 14,
   "metadata": {},
   "outputs": [
    {
     "data": {
      "image/png": "[encoded data removed]",
      "text/plain": [
       "Plot with title \"Histogram of df$Weigh\""
      ]
     },
     "metadata": {},
     "output_type": "display_data"
    }
   ],
   "source": [
    "hist(df$Weigh)"
   ]
  },
  {
   "attachments": {},
   "cell_type": "markdown",
   "metadata": {},
   "source": [
    "## __3 - Question 8__ "
   ]
  },
  {
   "cell_type": "code",
   "execution_count": 15,
   "metadata": {},
   "outputs": [],
   "source": [
    "df1 = c(108, 110, 123, 134, 135, 145, 167, 187, 199)"
   ]
  },
  {
   "cell_type": "code",
   "execution_count": 16,
   "metadata": {},
   "outputs": [
    {
     "data": {
      "text/html": [
       "145.333333333333"
      ],
      "text/latex": [
       "145.333333333333"
      ],
      "text/markdown": [
       "145.333333333333"
      ],
      "text/plain": [
       "[1] 145.3333"
      ]
     },
     "metadata": {},
     "output_type": "display_data"
    }
   ],
   "source": [
    "mean(df1)"
   ]
  },
  {
   "attachments": {},
   "cell_type": "markdown",
   "metadata": {},
   "source": [
    "## __4 - Question 9__ "
   ]
  },
  {
   "cell_type": "code",
   "execution_count": 17,
   "metadata": {},
   "outputs": [],
   "source": [
    "df2= read.csv(\"Q9_a.csv\")"
   ]
  },
  {
   "cell_type": "code",
   "execution_count": 18,
   "metadata": {},
   "outputs": [
    {
     "data": {
      "text/html": [
       "<table>\n",
       "<thead><tr><th scope=col>Index</th><th scope=col>speed</th><th scope=col>dist</th></tr></thead>\n",
       "<tbody>\n",
       "\t<tr><td>1 </td><td>4 </td><td> 2</td></tr>\n",
       "\t<tr><td>2 </td><td>4 </td><td>10</td></tr>\n",
       "\t<tr><td>3 </td><td>7 </td><td> 4</td></tr>\n",
       "\t<tr><td>4 </td><td>7 </td><td>22</td></tr>\n",
       "\t<tr><td>5 </td><td>8 </td><td>16</td></tr>\n",
       "\t<tr><td>6 </td><td>9 </td><td>10</td></tr>\n",
       "</tbody>\n",
       "</table>\n"
      ],
      "text/latex": [
       "\\begin{tabular}{r|lll}\n",
       " Index & speed & dist\\\\\n",
       "\\hline\n",
       "\t 1  & 4  &  2\\\\\n",
       "\t 2  & 4  & 10\\\\\n",
       "\t 3  & 7  &  4\\\\\n",
       "\t 4  & 7  & 22\\\\\n",
       "\t 5  & 8  & 16\\\\\n",
       "\t 6  & 9  & 10\\\\\n",
       "\\end{tabular}\n"
      ],
      "text/markdown": [
       "\n",
       "| Index | speed | dist |\n",
       "|---|---|---|\n",
       "| 1  | 4  |  2 |\n",
       "| 2  | 4  | 10 |\n",
       "| 3  | 7  |  4 |\n",
       "| 4  | 7  | 22 |\n",
       "| 5  | 8  | 16 |\n",
       "| 6  | 9  | 10 |\n",
       "\n"
      ],
      "text/plain": [
       "  Index speed dist\n",
       "1 1     4      2  \n",
       "2 2     4     10  \n",
       "3 3     7      4  \n",
       "4 4     7     22  \n",
       "5 5     8     16  \n",
       "6 6     9     10  "
      ]
     },
     "metadata": {},
     "output_type": "display_data"
    }
   ],
   "source": [
    "head(df2)"
   ]
  },
  {
   "cell_type": "code",
   "execution_count": 19,
   "metadata": {},
   "outputs": [
    {
     "name": "stderr",
     "output_type": "stream",
     "text": [
      "Warning message:\n",
      "\"encountered a tie, and the difference between minimal and \n",
      "                   maximal value is > length('x') * 'tie.limit'\n",
      "the distribution could be multimodal\""
     ]
    },
    {
     "data": {
      "text/html": [
       "-0.110553277648993"
      ],
      "text/latex": [
       "-0.110553277648993"
      ],
      "text/markdown": [
       "-0.110553277648993"
      ],
      "text/plain": [
       "[1] -0.1105533"
      ]
     },
     "metadata": {},
     "output_type": "display_data"
    },
    {
     "data": {
      "text/html": [
       "0.75912677852551"
      ],
      "text/latex": [
       "0.75912677852551"
      ],
      "text/markdown": [
       "0.75912677852551"
      ],
      "text/plain": [
       "[1] 0.7591268"
      ]
     },
     "metadata": {},
     "output_type": "display_data"
    }
   ],
   "source": [
    "skewness(df2[,2])\n",
    "skewness(df2[,3])"
   ]
  },
  {
   "cell_type": "code",
   "execution_count": 20,
   "metadata": {},
   "outputs": [
    {
     "data": {
      "text/html": [
       "2.42285257605626"
      ],
      "text/latex": [
       "2.42285257605626"
      ],
      "text/markdown": [
       "2.42285257605626"
      ],
      "text/plain": [
       "[1] 2.422853"
      ]
     },
     "metadata": {},
     "output_type": "display_data"
    },
    {
     "data": {
      "text/html": [
       "3.24801865717052"
      ],
      "text/latex": [
       "3.24801865717052"
      ],
      "text/markdown": [
       "3.24801865717052"
      ],
      "text/plain": [
       "[1] 3.248019"
      ]
     },
     "metadata": {},
     "output_type": "display_data"
    }
   ],
   "source": [
    "kurtosis(df2[,2])\n",
    "kurtosis(df2[,3])"
   ]
  },
  {
   "cell_type": "code",
   "execution_count": 21,
   "metadata": {},
   "outputs": [
    {
     "data": {
      "image/png": "[encoded data removed]",
      "text/plain": [
       "Plot with title \"Histogram of df2$speed\""
      ]
     },
     "metadata": {},
     "output_type": "display_data"
    }
   ],
   "source": [
    "hist(df2$speed,breaks = 30)"
   ]
  },
  {
   "cell_type": "code",
   "execution_count": 22,
   "metadata": {},
   "outputs": [
    {
     "data": {
      "image/png": "[encoded data removed]",
      "text/plain": [
       "Plot with title \"Histogram of df2$dist\""
      ]
     },
     "metadata": {},
     "output_type": "display_data"
    }
   ],
   "source": [
    "hist(df2$dist,breaks = 30)"
   ]
  },
  {
   "cell_type": "code",
   "execution_count": 23,
   "metadata": {},
   "outputs": [],
   "source": [
    "df3= read.csv(\"Q9_b.csv\")"
   ]
  },
  {
   "cell_type": "code",
   "execution_count": 24,
   "metadata": {},
   "outputs": [
    {
     "data": {
      "text/html": [
       "<table>\n",
       "<thead><tr><th scope=col>X</th><th scope=col>SP</th><th scope=col>WT</th></tr></thead>\n",
       "<tbody>\n",
       "\t<tr><td>1       </td><td>104.1854</td><td>28.76206</td></tr>\n",
       "\t<tr><td>2       </td><td>105.4613</td><td>30.46683</td></tr>\n",
       "\t<tr><td>3       </td><td>105.4613</td><td>30.19360</td></tr>\n",
       "\t<tr><td>4       </td><td>113.4613</td><td>30.63211</td></tr>\n",
       "\t<tr><td>5       </td><td>104.4613</td><td>29.88915</td></tr>\n",
       "\t<tr><td>6       </td><td>113.1854</td><td>29.59177</td></tr>\n",
       "</tbody>\n",
       "</table>\n"
      ],
      "text/latex": [
       "\\begin{tabular}{r|lll}\n",
       " X & SP & WT\\\\\n",
       "\\hline\n",
       "\t 1        & 104.1854 & 28.76206\\\\\n",
       "\t 2        & 105.4613 & 30.46683\\\\\n",
       "\t 3        & 105.4613 & 30.19360\\\\\n",
       "\t 4        & 113.4613 & 30.63211\\\\\n",
       "\t 5        & 104.4613 & 29.88915\\\\\n",
       "\t 6        & 113.1854 & 29.59177\\\\\n",
       "\\end{tabular}\n"
      ],
      "text/markdown": [
       "\n",
       "| X | SP | WT |\n",
       "|---|---|---|\n",
       "| 1        | 104.1854 | 28.76206 |\n",
       "| 2        | 105.4613 | 30.46683 |\n",
       "| 3        | 105.4613 | 30.19360 |\n",
       "| 4        | 113.4613 | 30.63211 |\n",
       "| 5        | 104.4613 | 29.88915 |\n",
       "| 6        | 113.1854 | 29.59177 |\n",
       "\n"
      ],
      "text/plain": [
       "  X SP       WT      \n",
       "1 1 104.1854 28.76206\n",
       "2 2 105.4613 30.46683\n",
       "3 3 105.4613 30.19360\n",
       "4 4 113.4613 30.63211\n",
       "5 5 104.4613 29.88915\n",
       "6 6 113.1854 29.59177"
      ]
     },
     "metadata": {},
     "output_type": "display_data"
    }
   ],
   "source": [
    "head(df3)"
   ]
  },
  {
   "cell_type": "code",
   "execution_count": 25,
   "metadata": {},
   "outputs": [
    {
     "data": {
      "text/html": [
       "1.55225807648848"
      ],
      "text/latex": [
       "1.55225807648848"
      ],
      "text/markdown": [
       "1.55225807648848"
      ],
      "text/plain": [
       "[1] 1.552258"
      ]
     },
     "metadata": {},
     "output_type": "display_data"
    },
    {
     "data": {
      "text/html": [
       "-0.592172080077142"
      ],
      "text/latex": [
       "-0.592172080077142"
      ],
      "text/markdown": [
       "-0.592172080077142"
      ],
      "text/plain": [
       "[1] -0.5921721"
      ]
     },
     "metadata": {},
     "output_type": "display_data"
    }
   ],
   "source": [
    "skewness(df3[,2])\n",
    "skewness(df3[,3])"
   ]
  },
  {
   "cell_type": "code",
   "execution_count": 26,
   "metadata": {},
   "outputs": [
    {
     "data": {
      "text/html": [
       "5.72352148652692"
      ],
      "text/latex": [
       "5.72352148652692"
      ],
      "text/markdown": [
       "5.72352148652692"
      ],
      "text/plain": [
       "[1] 5.723521"
      ]
     },
     "metadata": {},
     "output_type": "display_data"
    },
    {
     "data": {
      "text/html": [
       "3.81946587922669"
      ],
      "text/latex": [
       "3.81946587922669"
      ],
      "text/markdown": [
       "3.81946587922669"
      ],
      "text/plain": [
       "[1] 3.819466"
      ]
     },
     "metadata": {},
     "output_type": "display_data"
    }
   ],
   "source": [
    "kurtosis(df3[,2])\n",
    "kurtosis(df3[,3])"
   ]
  },
  {
   "cell_type": "code",
   "execution_count": 27,
   "metadata": {},
   "outputs": [
    {
     "data": {
      "image/png": "[encoded data removed]",
      "text/plain": [
       "Plot with title \"Histogram of df3$SP\""
      ]
     },
     "metadata": {},
     "output_type": "display_data"
    }
   ],
   "source": [
    "hist(df3$SP,breaks = 30)"
   ]
  },
  {
   "cell_type": "code",
   "execution_count": 28,
   "metadata": {},
   "outputs": [
    {
     "data": {
      "image/png": "[encoded data removed]",
      "text/plain": [
       "Plot with title \"Histogram of df3$WT\""
      ]
     },
     "metadata": {},
     "output_type": "display_data"
    }
   ],
   "source": [
    "hist(df3$WT,breaks = 30)"
   ]
  },
  {
   "attachments": {},
   "cell_type": "markdown",
   "metadata": {},
   "source": [
    "## __5 - Question 11__ "
   ]
  },
  {
   "cell_type": "code",
   "execution_count": 29,
   "metadata": {},
   "outputs": [
    {
     "data": {
      "text/html": [
       "1.55477359459685"
      ],
      "text/latex": [
       "1.55477359459685"
      ],
      "text/markdown": [
       "1.55477359459685"
      ],
      "text/plain": [
       "[1] 1.554774"
      ]
     },
     "metadata": {},
     "output_type": "display_data"
    },
    {
     "data": {
      "text/html": [
       "2.05374891063182"
      ],
      "text/latex": [
       "2.05374891063182"
      ],
      "text/markdown": [
       "2.05374891063182"
      ],
      "text/plain": [
       "[1] 2.053749"
      ]
     },
     "metadata": {},
     "output_type": "display_data"
    },
    {
     "data": {
      "text/html": [
       "1.75068607125217"
      ],
      "text/latex": [
       "1.75068607125217"
      ],
      "text/markdown": [
       "1.75068607125217"
      ],
      "text/plain": [
       "[1] 1.750686"
      ]
     },
     "metadata": {},
     "output_type": "display_data"
    }
   ],
   "source": [
    "qnorm(0.94)\n",
    "qnorm(0.98)\n",
    "qnorm(0.96)"
   ]
  },
  {
   "cell_type": "code",
   "execution_count": 30,
   "metadata": {},
   "outputs": [
    {
     "data": {
      "text/html": [
       "1.55477359459685"
      ],
      "text/latex": [
       "1.55477359459685"
      ],
      "text/markdown": [
       "1.55477359459685"
      ],
      "text/plain": [
       "[1] 1.554774"
      ]
     },
     "metadata": {},
     "output_type": "display_data"
    },
    {
     "data": {
      "text/html": [
       "201.042973834142"
      ],
      "text/latex": [
       "201.042973834142"
      ],
      "text/markdown": [
       "201.042973834142"
      ],
      "text/plain": [
       "[1] 201.043"
      ]
     },
     "metadata": {},
     "output_type": "display_data"
    },
    {
     "data": {
      "text/html": [
       "198.957026165858"
      ],
      "text/latex": [
       "198.957026165858"
      ],
      "text/markdown": [
       "198.957026165858"
      ],
      "text/plain": [
       "[1] 198.957"
      ]
     },
     "metadata": {},
     "output_type": "display_data"
    }
   ],
   "source": [
    "qnorm(p = 0.94)\n",
    "200+(1.55477359459685*(30/sqrt(2000)))  \n",
    "200-(1.55477359459685*(30/sqrt(2000)))   "
   ]
  },
  {
   "cell_type": "code",
   "execution_count": 31,
   "metadata": {},
   "outputs": [
    {
     "data": {
      "text/html": [
       "2.05374891063182"
      ],
      "text/latex": [
       "2.05374891063182"
      ],
      "text/markdown": [
       "2.05374891063182"
      ],
      "text/plain": [
       "[1] 2.053749"
      ]
     },
     "metadata": {},
     "output_type": "display_data"
    },
    {
     "data": {
      "text/html": [
       "201.377696651867"
      ],
      "text/latex": [
       "201.377696651867"
      ],
      "text/markdown": [
       "201.377696651867"
      ],
      "text/plain": [
       "[1] 201.3777"
      ]
     },
     "metadata": {},
     "output_type": "display_data"
    },
    {
     "data": {
      "text/html": [
       "198.622303348133"
      ],
      "text/latex": [
       "198.622303348133"
      ],
      "text/markdown": [
       "198.622303348133"
      ],
      "text/plain": [
       "[1] 198.6223"
      ]
     },
     "metadata": {},
     "output_type": "display_data"
    }
   ],
   "source": [
    "qnorm(p = 0.98)\n",
    "200+(2.05374891063182*(30/sqrt(2000)))  \n",
    "200-(2.05374891063182*(30/sqrt(2000))) "
   ]
  },
  {
   "cell_type": "code",
   "execution_count": 32,
   "metadata": {},
   "outputs": [
    {
     "data": {
      "text/html": [
       "1.75068607125217"
      ],
      "text/latex": [
       "1.75068607125217"
      ],
      "text/markdown": [
       "1.75068607125217"
      ],
      "text/plain": [
       "[1] 1.750686"
      ]
     },
     "metadata": {},
     "output_type": "display_data"
    },
    {
     "data": {
      "text/html": [
       "201.174395918775"
      ],
      "text/latex": [
       "201.174395918775"
      ],
      "text/markdown": [
       "201.174395918775"
      ],
      "text/plain": [
       "[1] 201.1744"
      ]
     },
     "metadata": {},
     "output_type": "display_data"
    },
    {
     "data": {
      "text/html": [
       "198.825604081225"
      ],
      "text/latex": [
       "198.825604081225"
      ],
      "text/markdown": [
       "198.825604081225"
      ],
      "text/plain": [
       "[1] 198.8256"
      ]
     },
     "metadata": {},
     "output_type": "display_data"
    }
   ],
   "source": [
    "qnorm(p = 0.96)\n",
    "200+(1.75068607125217*(30/sqrt(2000)))  \n",
    "200-(1.75068607125217*(30/sqrt(2000))) "
   ]
  },
  {
   "attachments": {},
   "cell_type": "markdown",
   "metadata": {},
   "source": [
    "## __6 - Question 12__ "
   ]
  },
  {
   "cell_type": "code",
   "execution_count": 33,
   "metadata": {},
   "outputs": [],
   "source": [
    "df4 = c(34,36,36,38,38,39,39,40,40,41,41,41,41,42,42,45,49,56)"
   ]
  },
  {
   "cell_type": "code",
   "execution_count": 34,
   "metadata": {},
   "outputs": [
    {
     "data": {
      "text/plain": [
       "   Min. 1st Qu.  Median    Mean 3rd Qu.    Max. \n",
       "  34.00   38.25   40.50   41.00   41.75   56.00 "
      ]
     },
     "metadata": {},
     "output_type": "display_data"
    }
   ],
   "source": [
    "summary(df4)"
   ]
  },
  {
   "cell_type": "code",
   "execution_count": 35,
   "metadata": {},
   "outputs": [
    {
     "data": {
      "text/html": [
       "25.5294117647059"
      ],
      "text/latex": [
       "25.5294117647059"
      ],
      "text/markdown": [
       "25.5294117647059"
      ],
      "text/plain": [
       "[1] 25.52941"
      ]
     },
     "metadata": {},
     "output_type": "display_data"
    }
   ],
   "source": [
    "var(df4)"
   ]
  },
  {
   "cell_type": "code",
   "execution_count": 36,
   "metadata": {},
   "outputs": [
    {
     "data": {
      "text/html": [
       "5.05266382858645"
      ],
      "text/latex": [
       "5.05266382858645"
      ],
      "text/markdown": [
       "5.05266382858645"
      ],
      "text/plain": [
       "[1] 5.052664"
      ]
     },
     "metadata": {},
     "output_type": "display_data"
    }
   ],
   "source": [
    "sd(df4)"
   ]
  },
  {
   "cell_type": "code",
   "execution_count": 37,
   "metadata": {},
   "outputs": [
    {
     "data": {
      "image/png": "[encoded data removed]",
      "text/plain": [
       "Plot with title \"Histogram of df4\""
      ]
     },
     "metadata": {},
     "output_type": "display_data"
    }
   ],
   "source": [
    "hist(df4)"
   ]
  },
  {
   "cell_type": "code",
   "execution_count": 38,
   "metadata": {},
   "outputs": [
    {
     "data": {
      "text/plain": [
       "\n",
       "\tShapiro-Wilk normality test\n",
       "\n",
       "data:  df4\n",
       "W = 0.84879, p-value = 0.008104\n"
      ]
     },
     "metadata": {},
     "output_type": "display_data"
    }
   ],
   "source": [
    "shapiro.test(df4)"
   ]
  },
  {
   "attachments": {},
   "cell_type": "markdown",
   "metadata": {},
   "source": [
    "## __7 - Question 20__ "
   ]
  },
  {
   "cell_type": "code",
   "execution_count": 39,
   "metadata": {},
   "outputs": [],
   "source": [
    "df5 = read.csv(\"Cars.csv\")"
   ]
  },
  {
   "cell_type": "code",
   "execution_count": 40,
   "metadata": {},
   "outputs": [
    {
     "data": {
      "text/html": [
       "<table>\n",
       "<thead><tr><th scope=col>HP</th><th scope=col>MPG</th><th scope=col>VOL</th><th scope=col>SP</th><th scope=col>WT</th></tr></thead>\n",
       "<tbody>\n",
       "\t<tr><td>49      </td><td>53.70068</td><td>89      </td><td>104.1854</td><td>28.76206</td></tr>\n",
       "\t<tr><td>55      </td><td>50.01340</td><td>92      </td><td>105.4613</td><td>30.46683</td></tr>\n",
       "\t<tr><td>55      </td><td>50.01340</td><td>92      </td><td>105.4613</td><td>30.19360</td></tr>\n",
       "\t<tr><td>70      </td><td>45.69632</td><td>92      </td><td>113.4613</td><td>30.63211</td></tr>\n",
       "\t<tr><td>53      </td><td>50.50423</td><td>92      </td><td>104.4613</td><td>29.88915</td></tr>\n",
       "\t<tr><td>70      </td><td>45.69632</td><td>89      </td><td>113.1854</td><td>29.59177</td></tr>\n",
       "</tbody>\n",
       "</table>\n"
      ],
      "text/latex": [
       "\\begin{tabular}{r|lllll}\n",
       " HP & MPG & VOL & SP & WT\\\\\n",
       "\\hline\n",
       "\t 49       & 53.70068 & 89       & 104.1854 & 28.76206\\\\\n",
       "\t 55       & 50.01340 & 92       & 105.4613 & 30.46683\\\\\n",
       "\t 55       & 50.01340 & 92       & 105.4613 & 30.19360\\\\\n",
       "\t 70       & 45.69632 & 92       & 113.4613 & 30.63211\\\\\n",
       "\t 53       & 50.50423 & 92       & 104.4613 & 29.88915\\\\\n",
       "\t 70       & 45.69632 & 89       & 113.1854 & 29.59177\\\\\n",
       "\\end{tabular}\n"
      ],
      "text/markdown": [
       "\n",
       "| HP | MPG | VOL | SP | WT |\n",
       "|---|---|---|---|---|\n",
       "| 49       | 53.70068 | 89       | 104.1854 | 28.76206 |\n",
       "| 55       | 50.01340 | 92       | 105.4613 | 30.46683 |\n",
       "| 55       | 50.01340 | 92       | 105.4613 | 30.19360 |\n",
       "| 70       | 45.69632 | 92       | 113.4613 | 30.63211 |\n",
       "| 53       | 50.50423 | 92       | 104.4613 | 29.88915 |\n",
       "| 70       | 45.69632 | 89       | 113.1854 | 29.59177 |\n",
       "\n"
      ],
      "text/plain": [
       "  HP MPG      VOL SP       WT      \n",
       "1 49 53.70068 89  104.1854 28.76206\n",
       "2 55 50.01340 92  105.4613 30.46683\n",
       "3 55 50.01340 92  105.4613 30.19360\n",
       "4 70 45.69632 92  113.4613 30.63211\n",
       "5 53 50.50423 92  104.4613 29.88915\n",
       "6 70 45.69632 89  113.1854 29.59177"
      ]
     },
     "metadata": {},
     "output_type": "display_data"
    }
   ],
   "source": [
    "head(df5)"
   ]
  },
  {
   "cell_type": "code",
   "execution_count": 41,
   "metadata": {},
   "outputs": [
    {
     "data": {
      "text/plain": [
       "\n",
       "    FALSE      TRUE \n",
       "0.5925926 0.4074074 "
      ]
     },
     "metadata": {},
     "output_type": "display_data"
    }
   ],
   "source": [
    "prop.table(table(df5$MPG>38))"
   ]
  },
  {
   "cell_type": "code",
   "execution_count": 42,
   "metadata": {},
   "outputs": [
    {
     "data": {
      "text/plain": [
       "\n",
       "    FALSE      TRUE \n",
       "0.2469136 0.7530864 "
      ]
     },
     "metadata": {},
     "output_type": "display_data"
    }
   ],
   "source": [
    "prop.table(table(df5$MPG<40))"
   ]
  },
  {
   "cell_type": "code",
   "execution_count": 43,
   "metadata": {},
   "outputs": [
    {
     "data": {
      "text/plain": [
       "\n",
       "    FALSE      TRUE \n",
       "0.1481481 0.8518519 "
      ]
     },
     "metadata": {},
     "output_type": "display_data"
    }
   ],
   "source": [
    "prop.table(table(df5$MPG < 50 & df5$MPG > 20))"
   ]
  },
  {
   "attachments": {},
   "cell_type": "markdown",
   "metadata": {},
   "source": [
    "## __8 - Question 21__ "
   ]
  },
  {
   "cell_type": "code",
   "execution_count": 44,
   "metadata": {},
   "outputs": [
    {
     "data": {
      "text/plain": [
       "\n",
       "\tShapiro-Wilk normality test\n",
       "\n",
       "data:  df5$MPG\n",
       "W = 0.97797, p-value = 0.1764\n"
      ]
     },
     "metadata": {},
     "output_type": "display_data"
    }
   ],
   "source": [
    "shapiro.test(df5$MPG)"
   ]
  },
  {
   "cell_type": "code",
   "execution_count": 45,
   "metadata": {},
   "outputs": [
    {
     "data": {
      "image/png": "[encoded data removed]",
      "text/plain": [
       "Plot with title \"Histogram of df5$MPG\""
      ]
     },
     "metadata": {},
     "output_type": "display_data"
    }
   ],
   "source": [
    "hist(df5$MPG)"
   ]
  },
  {
   "cell_type": "code",
   "execution_count": 46,
   "metadata": {},
   "outputs": [],
   "source": [
    "df6 = read.csv(\"wc-at.csv\")"
   ]
  },
  {
   "cell_type": "code",
   "execution_count": 47,
   "metadata": {},
   "outputs": [
    {
     "data": {
      "text/html": [
       "<table>\n",
       "<thead><tr><th scope=col>Waist</th><th scope=col>AT</th></tr></thead>\n",
       "<tbody>\n",
       "\t<tr><td>74.75</td><td>25.72</td></tr>\n",
       "\t<tr><td>72.60</td><td>25.89</td></tr>\n",
       "\t<tr><td>81.80</td><td>42.60</td></tr>\n",
       "\t<tr><td>83.95</td><td>42.80</td></tr>\n",
       "\t<tr><td>74.65</td><td>29.84</td></tr>\n",
       "\t<tr><td>71.85</td><td>21.68</td></tr>\n",
       "</tbody>\n",
       "</table>\n"
      ],
      "text/latex": [
       "\\begin{tabular}{r|ll}\n",
       " Waist & AT\\\\\n",
       "\\hline\n",
       "\t 74.75 & 25.72\\\\\n",
       "\t 72.60 & 25.89\\\\\n",
       "\t 81.80 & 42.60\\\\\n",
       "\t 83.95 & 42.80\\\\\n",
       "\t 74.65 & 29.84\\\\\n",
       "\t 71.85 & 21.68\\\\\n",
       "\\end{tabular}\n"
      ],
      "text/markdown": [
       "\n",
       "| Waist | AT |\n",
       "|---|---|\n",
       "| 74.75 | 25.72 |\n",
       "| 72.60 | 25.89 |\n",
       "| 81.80 | 42.60 |\n",
       "| 83.95 | 42.80 |\n",
       "| 74.65 | 29.84 |\n",
       "| 71.85 | 21.68 |\n",
       "\n"
      ],
      "text/plain": [
       "  Waist AT   \n",
       "1 74.75 25.72\n",
       "2 72.60 25.89\n",
       "3 81.80 42.60\n",
       "4 83.95 42.80\n",
       "5 74.65 29.84\n",
       "6 71.85 21.68"
      ]
     },
     "metadata": {},
     "output_type": "display_data"
    }
   ],
   "source": [
    "head(df6)"
   ]
  },
  {
   "cell_type": "code",
   "execution_count": 48,
   "metadata": {},
   "outputs": [
    {
     "data": {
      "text/plain": [
       "\n",
       "\tShapiro-Wilk normality test\n",
       "\n",
       "data:  df6$AT\n",
       "W = 0.95234, p-value = 0.000654\n"
      ]
     },
     "metadata": {},
     "output_type": "display_data"
    }
   ],
   "source": [
    "shapiro.test(df6$AT)"
   ]
  },
  {
   "cell_type": "code",
   "execution_count": 49,
   "metadata": {},
   "outputs": [
    {
     "data": {
      "image/png": "[encoded data removed]",
      "text/plain": [
       "Plot with title \"Histogram of df6$AT\""
      ]
     },
     "metadata": {},
     "output_type": "display_data"
    }
   ],
   "source": [
    "hist(df6$AT)"
   ]
  },
  {
   "cell_type": "code",
   "execution_count": 50,
   "metadata": {},
   "outputs": [
    {
     "data": {
      "text/plain": [
       "\n",
       "\tShapiro-Wilk normality test\n",
       "\n",
       "data:  df6$Waist\n",
       "W = 0.95586, p-value = 0.00117\n"
      ]
     },
     "metadata": {},
     "output_type": "display_data"
    }
   ],
   "source": [
    "shapiro.test(df6$Waist)"
   ]
  },
  {
   "cell_type": "code",
   "execution_count": 51,
   "metadata": {},
   "outputs": [
    {
     "data": {
      "image/png": "[encoded data removed]",
      "text/plain": [
       "Plot with title \"Histogram of df6$Waist\""
      ]
     },
     "metadata": {},
     "output_type": "display_data"
    }
   ],
   "source": [
    "hist(df6$Waist)"
   ]
  },
  {
   "attachments": {},
   "cell_type": "markdown",
   "metadata": {},
   "source": [
    "## __9 - Question 22__ "
   ]
  },
  {
   "cell_type": "code",
   "execution_count": 52,
   "metadata": {},
   "outputs": [
    {
     "data": {
      "text/html": [
       "1.2815515655446"
      ],
      "text/latex": [
       "1.2815515655446"
      ],
      "text/markdown": [
       "1.2815515655446"
      ],
      "text/plain": [
       "[1] 1.281552"
      ]
     },
     "metadata": {},
     "output_type": "display_data"
    },
    {
     "data": {
      "text/html": [
       "1.55477359459685"
      ],
      "text/latex": [
       "1.55477359459685"
      ],
      "text/markdown": [
       "1.55477359459685"
      ],
      "text/plain": [
       "[1] 1.554774"
      ]
     },
     "metadata": {},
     "output_type": "display_data"
    },
    {
     "data": {
      "text/html": [
       "0.2533471031358"
      ],
      "text/latex": [
       "0.2533471031358"
      ],
      "text/markdown": [
       "0.2533471031358"
      ],
      "text/plain": [
       "[1] 0.2533471"
      ]
     },
     "metadata": {},
     "output_type": "display_data"
    }
   ],
   "source": [
    "qnorm(p = 0.90)\n",
    "qnorm(p = 0.94)\n",
    "qnorm(p = 0.60)"
   ]
  },
  {
   "attachments": {},
   "cell_type": "markdown",
   "metadata": {},
   "source": [
    "## __10 - Question 23__ "
   ]
  },
  {
   "cell_type": "code",
   "execution_count": 53,
   "metadata": {},
   "outputs": [
    {
     "data": {
      "text/html": [
       "<ol class=list-inline>\n",
       "\t<li>-2.0595385527533</li>\n",
       "\t<li>2.0595385527533</li>\n",
       "</ol>\n"
      ],
      "text/latex": [
       "\\begin{enumerate*}\n",
       "\\item -2.0595385527533\n",
       "\\item 2.0595385527533\n",
       "\\end{enumerate*}\n"
      ],
      "text/markdown": [
       "1. -2.0595385527533\n",
       "2. 2.0595385527533\n",
       "\n",
       "\n"
      ],
      "text/plain": [
       "[1] -2.059539  2.059539"
      ]
     },
     "metadata": {},
     "output_type": "display_data"
    },
    {
     "data": {
      "text/html": [
       "<ol class=list-inline>\n",
       "\t<li>-2.16658663445277</li>\n",
       "\t<li>2.16658663445276</li>\n",
       "</ol>\n"
      ],
      "text/latex": [
       "\\begin{enumerate*}\n",
       "\\item -2.16658663445277\n",
       "\\item 2.16658663445276\n",
       "\\end{enumerate*}\n"
      ],
      "text/markdown": [
       "1. -2.16658663445277\n",
       "2. 2.16658663445276\n",
       "\n",
       "\n"
      ],
      "text/plain": [
       "[1] -2.166587  2.166587"
      ]
     },
     "metadata": {},
     "output_type": "display_data"
    },
    {
     "data": {
      "text/html": [
       "<ol class=list-inline>\n",
       "\t<li>-2.78743581367697</li>\n",
       "\t<li>2.78743581367697</li>\n",
       "</ol>\n"
      ],
      "text/latex": [
       "\\begin{enumerate*}\n",
       "\\item -2.78743581367697\n",
       "\\item 2.78743581367697\n",
       "\\end{enumerate*}\n"
      ],
      "text/markdown": [
       "1. -2.78743581367697\n",
       "2. 2.78743581367697\n",
       "\n",
       "\n"
      ],
      "text/plain": [
       "[1] -2.787436  2.787436"
      ]
     },
     "metadata": {},
     "output_type": "display_data"
    }
   ],
   "source": [
    "qt(c(.025, .975), df=25)\n",
    "qt(c(.020, .980), df=25)\n",
    "qt(c(.005, .995), df=25)"
   ]
  },
  {
   "attachments": {},
   "cell_type": "markdown",
   "metadata": {},
   "source": [
    "## __11 - Question 24__ "
   ]
  },
  {
   "cell_type": "code",
   "execution_count": 54,
   "metadata": {},
   "outputs": [
    {
     "data": {
      "text/html": [
       "-0.471404520791032"
      ],
      "text/latex": [
       "-0.471404520791032"
      ],
      "text/markdown": [
       "-0.471404520791032"
      ],
      "text/plain": [
       "[1] -0.4714045"
      ]
     },
     "metadata": {},
     "output_type": "display_data"
    }
   ],
   "source": [
    "(260-270)/(90/sqrt(18))"
   ]
  },
  {
   "cell_type": "code",
   "execution_count": 55,
   "metadata": {},
   "outputs": [
    {
     "data": {
      "text/html": [
       "0.321672542942763"
      ],
      "text/latex": [
       "0.321672542942763"
      ],
      "text/markdown": [
       "0.321672542942763"
      ],
      "text/plain": [
       "[1] 0.3216725"
      ]
     },
     "metadata": {},
     "output_type": "display_data"
    }
   ],
   "source": [
    "pt(-0.4714045,df = 17)"
   ]
  },
  {
   "cell_type": "code",
   "execution_count": 56,
   "metadata": {},
   "outputs": [
    {
     "data": {
      "text/html": [
       "<ol class=list-inline>\n",
       "\t<li>-2.10981557783332</li>\n",
       "\t<li>2.10981557783332</li>\n",
       "</ol>\n"
      ],
      "text/latex": [
       "\\begin{enumerate*}\n",
       "\\item -2.10981557783332\n",
       "\\item 2.10981557783332\n",
       "\\end{enumerate*}\n"
      ],
      "text/markdown": [
       "1. -2.10981557783332\n",
       "2. 2.10981557783332\n",
       "\n",
       "\n"
      ],
      "text/plain": [
       "[1] -2.109816  2.109816"
      ]
     },
     "metadata": {},
     "output_type": "display_data"
    }
   ],
   "source": [
    "qt(c(.025, .975), df=17)"
   ]
  },
  {
   "cell_type": "code",
   "execution_count": null,
   "metadata": {},
   "outputs": [],
   "source": []
  }
 ],
 "metadata": {
  "kernelspec": {
   "display_name": "Python 3 (ipykernel)",
   "language": "python",
   "name": "python3"
  },
  "language_info": {
   "codemirror_mode": {
    "name": "ipython",
    "version": 3
   },
   "file_extension": ".py",
   "mimetype": "text/x-python",
   "name": "python",
   "nbconvert_exporter": "python",
   "pygments_lexer": "ipython3",
   "version": "3.12.3"
  }
 },
 "nbformat": 4,
 "nbformat_minor": 4
}
